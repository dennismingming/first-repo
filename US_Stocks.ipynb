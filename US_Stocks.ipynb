{
  "nbformat": 4,
  "nbformat_minor": 0,
  "metadata": {
    "colab": {
      "name": "US_Stocks.ipynb",
      "provenance": [],
      "authorship_tag": "ABX9TyN09lqA6x/f9LFIyukPb0Do",
      "include_colab_link": true
    },
    "kernelspec": {
      "name": "python3",
      "display_name": "Python 3"
    },
    "language_info": {
      "name": "python"
    }
  },
  "cells": [
    {
      "cell_type": "markdown",
      "metadata": {
        "id": "view-in-github",
        "colab_type": "text"
      },
      "source": [
        "<a href=\"https://colab.research.google.com/github/dennismingming/first-repo/blob/master/US_Stocks.ipynb\" target=\"_parent\"><img src=\"https://colab.research.google.com/assets/colab-badge.svg\" alt=\"Open In Colab\"/></a>"
      ]
    },
    {
      "cell_type": "code",
      "metadata": {
        "id": "bVzaeRyLtcrP"
      },
      "source": [
        "!pip install yahoo-fin"
      ],
      "execution_count": null,
      "outputs": []
    },
    {
      "cell_type": "code",
      "metadata": {
        "id": "65sHuXCUtceX"
      },
      "source": [
        "!pip install requests-html"
      ],
      "execution_count": null,
      "outputs": []
    },
    {
      "cell_type": "code",
      "metadata": {
        "id": "Qy5TWu9RtcP_"
      },
      "source": [
        "!pip install yfinance"
      ],
      "execution_count": null,
      "outputs": []
    },
    {
      "cell_type": "code",
      "metadata": {
        "id": "xTSC5xH4tb7Q"
      },
      "source": [
        "import yahoo_fin.stock_info as si \n",
        "import yfinance as yf\n",
        "import os\n",
        "\n",
        "\n",
        "# 종목 조회 \n",
        "dow_list = si.tickers_dow() \n",
        "nasdaq_list = si.tickers_nasdaq() \n",
        "sp500_list = si.tickers_sp500() \n",
        "other_list= si.tickers_other() \n",
        "\n",
        "print(\"Tickers in Dow Jones:\", len(dow_list)) \n",
        "print(\"Tickers in Nasdaq:\", len(nasdaq_list)) \n",
        "print(\"Tickers in S&P 500:\", len(sp500_list)) \n",
        "print(\"Tickers in Others:\", len(other_list)) \n",
        "\n",
        "#Tickers in Dow Jones: 30 \n",
        "#Tickers in Nasdaq: 3841 \n",
        "#Tickers in S&P 500: 505 \n",
        "\n",
        "# 사용할 stock_list 생성(나스닥 + 기타) \n",
        "stock_list = nasdaq_list + other_list \n",
        "print(\"Tickers in stock_list:\", len(stock_list)) \n",
        "\n",
        "#Tickers in Others: 9382"
      ],
      "execution_count": null,
      "outputs": []
    },
    {
      "cell_type": "code",
      "metadata": {
        "id": "uZgpDCHRtbkw"
      },
      "source": [
        "# ii = 0\n",
        "# for i in nasdaq_list:\n",
        "#     if i != 'TTEK':\n",
        "#         ii = ii + 1\n",
        "#     else:    \n",
        "#         break\n",
        "        \n",
        "\n",
        "# temp_list = nasdaq_list[ii+1:]\n",
        "\n",
        "for i in nasdaq_list:\n",
        "    \n",
        "    j = yf.download(i)\n",
        "    \n",
        "    j.to_csv('temp.csv')\n",
        "    \n",
        "    file_oldname = os.path.join('.', 'temp.csv')\n",
        "    file_newname_newfile = os.path.join('.\\\\stock\\\\nasdaq',f'{i}.csv')\n",
        "\n",
        "    os.rename(file_oldname, file_newname_newfile)"
      ],
      "execution_count": null,
      "outputs": []
    },
    {
      "cell_type": "code",
      "metadata": {
        "id": "kd9uyXGUtbRl"
      },
      "source": [
        "for i in dow_list:\n",
        "    \n",
        "    j = yf.download(i)\n",
        "    \n",
        "    j.to_csv('temp.csv')\n",
        "    \n",
        "    file_oldname = os.path.join('.', 'temp.csv')\n",
        "    file_newname_newfile = os.path.join('.\\\\stock\\\\daw',f'{i}.csv')\n",
        "\n",
        "    os.rename(file_oldname, file_newname_newfile)"
      ],
      "execution_count": null,
      "outputs": []
    },
    {
      "cell_type": "code",
      "metadata": {
        "id": "bLbsdvijtpXN"
      },
      "source": [
        "for i in sp500_list:\n",
        "    \n",
        "    j = yf.download(i)\n",
        "    \n",
        "    j.to_csv('temp.csv')\n",
        "    \n",
        "    file_oldname = os.path.join('.', 'temp.csv')\n",
        "    file_newname_newfile = os.path.join('.\\\\stock\\\\sp500_list',f'{i}.csv')\n",
        "\n",
        "    os.rename(file_oldname, file_newname_newfile)"
      ],
      "execution_count": null,
      "outputs": []
    },
    {
      "cell_type": "code",
      "metadata": {
        "id": "q6i61uZqtsOe"
      },
      "source": [
        "# for i in dow_list:\n",
        "    \n",
        "#     j = si.get_data(i)\n",
        "    \n",
        "#     j.to_csv(f'.\\stock\\dow\\{i}.csv')"
      ],
      "execution_count": null,
      "outputs": []
    }
  ]
}