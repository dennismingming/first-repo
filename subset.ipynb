{
 "cells": [
  {
   "cell_type": "code",
   "execution_count": null,
   "metadata": {},
   "outputs": [],
   "source": [
    "A1 = []\n",
    "A2 = [\"HH\"]\n",
    "A3 = ['HT']\n",
    "A4 = ['TH']\n",
    "A5 = ['TT']\n",
    "A6 = ['HH','HT']\n",
    "A7 = ['HH','TH']\n",
    "A8 = [\"HH\",'TT']\n",
    "A9 = [\"HT\",'TH']\n",
    "A10 = ['HT','TT']\n",
    "A11 = ['TH','TT']\n",
    "A12 = ['HH','HT','TH']\n",
    "A13 = ['HH','HT','TT']\n",
    "A14 = ['HH','TH','TT']\n",
    "A15 = ['HT','TH','TT']\n",
    "A16 = ['HH','HT','TH','TT']"
   ]
  },
  {
   "cell_type": "code",
   "execution_count": null,
   "metadata": {},
   "outputs": [],
   "source": [
    "B=[]\n",
    "C=[]\n",
    "for i in [\"HH\",' ']:\n",
    "    for j in ['HT',' ']:\n",
    "        for ii in [\"TH\",' ']:\n",
    "            for jj in ['TT',' ']:\n",
    "                B.append(i)\n",
    "                B.append(j)\n",
    "                B.append(ii)\n",
    "                B.append(jj)\n",
    "\n",
    "\n",
    "for i in range(16):                \n",
    "    C.append(B[4*i:4*i+4:1])\n",
    "    for _ in range(4):\n",
    "        if  \" \" in C[i]:\n",
    "            C[i].remove(' ')\n",
    "    \n",
    "    tuple(C[i])\n",
    "C"
   ]
  }
 ],
 "metadata": {
  "kernelspec": {
   "display_name": "Python 3",
   "language": "python",
   "name": "python3"
  },
  "language_info": {
   "codemirror_mode": {
    "name": "ipython",
    "version": 3
   },
   "file_extension": ".py",
   "mimetype": "text/x-python",
   "name": "python",
   "nbconvert_exporter": "python",
   "pygments_lexer": "ipython3",
   "version": "3.7.3"
  }
 },
 "nbformat": 4,
 "nbformat_minor": 2
}
