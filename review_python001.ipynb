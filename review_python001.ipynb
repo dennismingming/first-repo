{
  "nbformat": 4,
  "nbformat_minor": 0,
  "metadata": {
    "colab": {
      "name": "review_python001.ipynb",
      "provenance": [],
      "authorship_tag": "ABX9TyPEytTJu1tuZ692goJd+1iC",
      "include_colab_link": true
    },
    "kernelspec": {
      "name": "python3",
      "display_name": "Python 3"
    },
    "language_info": {
      "name": "python"
    }
  },
  "cells": [
    {
      "cell_type": "markdown",
      "metadata": {
        "id": "view-in-github",
        "colab_type": "text"
      },
      "source": [
        "<a href=\"https://colab.research.google.com/github/dennismingming/first-repo/blob/master/review_python001.ipynb\" target=\"_parent\"><img src=\"https://colab.research.google.com/assets/colab-badge.svg\" alt=\"Open In Colab\"/></a>"
      ]
    },
    {
      "cell_type": "markdown",
      "metadata": {
        "id": "PEsTPPAEfCJu"
      },
      "source": [
        "### 파이썬 복습\n",
        "- Magic Command\n",
        "- % 한줄의 magic command를 동작\n",
        "- %% 셀단위의 magic command를 동작\n",
        "- 주요 magic command\n",
        "    - pwd : 현재 주피터 노트북 파일 경로\n",
        "    - Is : 현재 디렉토리의 파일 리스트\n",
        "    - whos : 현재 선언된 변수를 출력\n",
        "    - reset : 현재 선언된 변수를 모두 삭제\n",
        "    "
      ]
    },
    {
      "cell_type": "code",
      "metadata": {
        "colab": {
          "base_uri": "https://localhost:8080/",
          "height": 35
        },
        "id": "HVAjxK7RfBKz",
        "outputId": "da75456d-23a5-4a4a-e21e-cae9ec1fe3f5"
      },
      "source": [
        "%pwd"
      ],
      "execution_count": 1,
      "outputs": [
        {
          "output_type": "execute_result",
          "data": {
            "application/vnd.google.colaboratory.intrinsic+json": {
              "type": "string"
            },
            "text/plain": [
              "'/content'"
            ]
          },
          "metadata": {},
          "execution_count": 1
        }
      ]
    },
    {
      "cell_type": "code",
      "metadata": {
        "id": "222Q-X3ifAjZ"
      },
      "source": [
        "a=1"
      ],
      "execution_count": 2,
      "outputs": []
    },
    {
      "cell_type": "code",
      "metadata": {
        "colab": {
          "base_uri": "https://localhost:8080/"
        },
        "id": "nggCAiMne8Rv",
        "outputId": "4cbf2e7c-a774-4dc0-f3dc-b18d4012f731"
      },
      "source": [
        "%whos"
      ],
      "execution_count": 3,
      "outputs": [
        {
          "output_type": "stream",
          "name": "stdout",
          "text": [
            "Variable   Type    Data/Info\n",
            "----------------------------\n",
            "a          int     1\n"
          ]
        }
      ]
    },
    {
      "cell_type": "code",
      "metadata": {
        "colab": {
          "base_uri": "https://localhost:8080/"
        },
        "id": "Xi0wlHjygJ1T",
        "outputId": "c2c4e06e-ecb1-4461-e342-4a8140647036"
      },
      "source": [
        "%reset"
      ],
      "execution_count": 4,
      "outputs": [
        {
          "name": "stdout",
          "output_type": "stream",
          "text": [
            "Once deleted, variables cannot be recovered. Proceed (y/[n])? y\n"
          ]
        }
      ]
    },
    {
      "cell_type": "code",
      "metadata": {
        "colab": {
          "base_uri": "https://localhost:8080/"
        },
        "id": "t2NSmLFegNCB",
        "outputId": "aa483e1b-d5d7-40ac-8f39-d24a957ae15a"
      },
      "source": [
        "%whos"
      ],
      "execution_count": 5,
      "outputs": [
        {
          "output_type": "stream",
          "name": "stdout",
          "text": [
            "Interactive namespace is empty.\n"
          ]
        }
      ]
    },
    {
      "cell_type": "code",
      "metadata": {
        "id": "ohmfsVVJgTCb"
      },
      "source": [
        "#Is"
      ],
      "execution_count": 6,
      "outputs": []
    },
    {
      "cell_type": "markdown",
      "metadata": {
        "id": "4wK0MXm9geK1"
      },
      "source": [
        "### zip()\n",
        "- 같은 인덱스끼리 묶어 주는 기능"
      ]
    },
    {
      "cell_type": "code",
      "metadata": {
        "id": "AB8XD51Hg7Gm"
      },
      "source": [
        "city = ['seoul','busan','daegu']\n",
        "population = [970000, 340000, 240000]"
      ],
      "execution_count": 7,
      "outputs": []
    },
    {
      "cell_type": "code",
      "metadata": {
        "colab": {
          "base_uri": "https://localhost:8080/"
        },
        "id": "Rk7akxrQhTqe",
        "outputId": "56b88596-7e03-4a72-b18c-21181f1bd9fa"
      },
      "source": [
        "city, population"
      ],
      "execution_count": 8,
      "outputs": [
        {
          "output_type": "execute_result",
          "data": {
            "text/plain": [
              "(['seoul', 'busan', 'daegu'], [970000, 340000, 240000])"
            ]
          },
          "metadata": {},
          "execution_count": 8
        }
      ]
    },
    {
      "cell_type": "code",
      "metadata": {
        "colab": {
          "base_uri": "https://localhost:8080/"
        },
        "id": "oZqy-TQBhYCn",
        "outputId": "7992b18e-7092-4b94-94a6-00115c38a255"
      },
      "source": [
        "zip(city, population)"
      ],
      "execution_count": 9,
      "outputs": [
        {
          "output_type": "execute_result",
          "data": {
            "text/plain": [
              "<zip at 0x7f97be7645f0>"
            ]
          },
          "metadata": {},
          "execution_count": 9
        }
      ]
    },
    {
      "cell_type": "code",
      "metadata": {
        "colab": {
          "base_uri": "https://localhost:8080/"
        },
        "id": "4EqM4g-vhdFM",
        "outputId": "6f933a9a-7b51-442f-fc13-426991a10bf7"
      },
      "source": [
        "list(zip(city, population))"
      ],
      "execution_count": 10,
      "outputs": [
        {
          "output_type": "execute_result",
          "data": {
            "text/plain": [
              "[('seoul', 970000), ('busan', 340000), ('daegu', 240000)]"
            ]
          },
          "metadata": {},
          "execution_count": 10
        }
      ]
    },
    {
      "cell_type": "markdown",
      "metadata": {
        "id": "4zZnWjlujmuv"
      },
      "source": [
        "스네이크 케이스 카멜 케이스\n",
        "\n",
        "스네이크 케이스 변수\n",
        "카멜 케이스 클래스"
      ]
    },
    {
      "cell_type": "markdown",
      "metadata": {
        "id": "HrNlqon_hl1-"
      },
      "source": [
        "### 할당 연산자(Assignment Operatiors)"
      ]
    },
    {
      "cell_type": "markdown",
      "metadata": {
        "id": "XR-V_VF5jvNJ"
      },
      "source": [
        "[링크 텍스트](https://wikidocs.net/1160)\n",
        "\n",
        "![image.png](data:image/png;base64,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)"
      ]
    }
  ]
}